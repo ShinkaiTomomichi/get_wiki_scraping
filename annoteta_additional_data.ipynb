{
 "cells": [
  {
   "cell_type": "code",
   "execution_count": 41,
   "metadata": {},
   "outputs": [],
   "source": [
    "# Pythonの基本ライブラリ\n",
    "import numpy as np\n",
    "import pandas as pd\n",
    "import matplotlib.pyplot as plt\n",
    "\n",
    "# Jupyter上にHTMLを表示する\n",
    "from IPython.display import HTML\n",
    "\n",
    "# YoutubeAPIの利用\n",
    "from apiclient.discovery import build\n",
    "from apiclient.errors import HttpError\n",
    "\n",
    "# spotifyのAPIを利用\n",
    "import spotipy"
   ]
  },
  {
   "cell_type": "code",
   "execution_count": 4,
   "metadata": {},
   "outputs": [
    {
     "data": {
      "text/html": [
       "<div>\n",
       "<style scoped>\n",
       "    .dataframe tbody tr th:only-of-type {\n",
       "        vertical-align: middle;\n",
       "    }\n",
       "\n",
       "    .dataframe tbody tr th {\n",
       "        vertical-align: top;\n",
       "    }\n",
       "\n",
       "    .dataframe thead th {\n",
       "        text-align: right;\n",
       "    }\n",
       "</style>\n",
       "<table border=\"1\" class=\"dataframe\">\n",
       "  <thead>\n",
       "    <tr style=\"text-align: right;\">\n",
       "      <th></th>\n",
       "      <th>Members</th>\n",
       "      <th>SongName</th>\n",
       "      <th>VideoID</th>\n",
       "      <th>StartTime</th>\n",
       "      <th>TrackID</th>\n",
       "      <th>TrackName</th>\n",
       "      <th>Duration</th>\n",
       "      <th>ArtistID</th>\n",
       "      <th>ArtistName</th>\n",
       "      <th>ArtistURL</th>\n",
       "      <th>ArtistGenres</th>\n",
       "    </tr>\n",
       "  </thead>\n",
       "  <tbody>\n",
       "    <tr>\n",
       "      <th>0</th>\n",
       "      <td>星街すいせい</td>\n",
       "      <td>破滅の純情</td>\n",
       "      <td>rbkjVA6Fjh0</td>\n",
       "      <td>4872</td>\n",
       "      <td>4Rs0bABgDMzAqAAd2P8ArD</td>\n",
       "      <td>Hametsu no Junjo</td>\n",
       "      <td>267400</td>\n",
       "      <td>5U8dcKsZ0mmeiUgbM0jvFC</td>\n",
       "      <td>Sheryl Nome starring May'n</td>\n",
       "      <td>https://i.scdn.co/image/ab67616d0000b27364c32c...</td>\n",
       "      <td>None</td>\n",
       "    </tr>\n",
       "    <tr>\n",
       "      <th>1</th>\n",
       "      <td>星街すいせい</td>\n",
       "      <td>コワレヤスキ</td>\n",
       "      <td>rbkjVA6Fjh0</td>\n",
       "      <td>5743</td>\n",
       "      <td>1TizL66jSoN48Hj8airJgr</td>\n",
       "      <td>コワレヤスキ</td>\n",
       "      <td>302453</td>\n",
       "      <td>7gKNDpetmXrzHZuLdo9tv8</td>\n",
       "      <td>Guilty Kiss</td>\n",
       "      <td>https://i.scdn.co/image/ab67616d0000b273def723...</td>\n",
       "      <td>love live</td>\n",
       "    </tr>\n",
       "    <tr>\n",
       "      <th>2</th>\n",
       "      <td>星街すいせい,常闇トワ</td>\n",
       "      <td>ライオン</td>\n",
       "      <td>rbkjVA6Fjh0</td>\n",
       "      <td>6763</td>\n",
       "      <td>1ux8Y96cV5Qs0kdOCq4cZ2</td>\n",
       "      <td>Lion</td>\n",
       "      <td>303657</td>\n",
       "      <td>0JQH8OHvGdooprROP18Wg6</td>\n",
       "      <td>May'n</td>\n",
       "      <td>https://i.scdn.co/image/ab6761610000e5eb0d1c05...</td>\n",
       "      <td>anime,j-poprock</td>\n",
       "    </tr>\n",
       "    <tr>\n",
       "      <th>3</th>\n",
       "      <td>星街すいせい</td>\n",
       "      <td>天球、彗星は夜を跨いで</td>\n",
       "      <td>FZnG1t34wCs</td>\n",
       "      <td>95</td>\n",
       "      <td>0wTs0OV88H5YZrFX6zN4QJ</td>\n",
       "      <td>天球、彗星は夜を跨いで</td>\n",
       "      <td>256548</td>\n",
       "      <td>726WiFmWkohzodUxK3XjHX</td>\n",
       "      <td>Hoshimachi Suisei</td>\n",
       "      <td>https://i.scdn.co/image/ab6761610000e5ebee9358...</td>\n",
       "      <td>hololive,japanese vtuber</td>\n",
       "    </tr>\n",
       "    <tr>\n",
       "      <th>4</th>\n",
       "      <td>星街すいせい</td>\n",
       "      <td>Neo stream</td>\n",
       "      <td>FZnG1t34wCs</td>\n",
       "      <td>568</td>\n",
       "      <td>1WZ2n937qxjPuJAHzFGegK</td>\n",
       "      <td>NEO STREAM</td>\n",
       "      <td>270960</td>\n",
       "      <td>4b1IVV9meynYx65WpsxjbT</td>\n",
       "      <td>Walkure</td>\n",
       "      <td>https://i.scdn.co/image/ab67616d0000b273ab4899...</td>\n",
       "      <td>None</td>\n",
       "    </tr>\n",
       "  </tbody>\n",
       "</table>\n",
       "</div>"
      ],
      "text/plain": [
       "       Members     SongName      VideoID  StartTime                 TrackID  \\\n",
       "0       星街すいせい        破滅の純情  rbkjVA6Fjh0       4872  4Rs0bABgDMzAqAAd2P8ArD   \n",
       "1       星街すいせい       コワレヤスキ  rbkjVA6Fjh0       5743  1TizL66jSoN48Hj8airJgr   \n",
       "2  星街すいせい,常闇トワ         ライオン  rbkjVA6Fjh0       6763  1ux8Y96cV5Qs0kdOCq4cZ2   \n",
       "3       星街すいせい  天球、彗星は夜を跨いで  FZnG1t34wCs         95  0wTs0OV88H5YZrFX6zN4QJ   \n",
       "4       星街すいせい   Neo stream  FZnG1t34wCs        568  1WZ2n937qxjPuJAHzFGegK   \n",
       "\n",
       "          TrackName  Duration                ArtistID  \\\n",
       "0  Hametsu no Junjo    267400  5U8dcKsZ0mmeiUgbM0jvFC   \n",
       "1            コワレヤスキ    302453  7gKNDpetmXrzHZuLdo9tv8   \n",
       "2              Lion    303657  0JQH8OHvGdooprROP18Wg6   \n",
       "3       天球、彗星は夜を跨いで    256548  726WiFmWkohzodUxK3XjHX   \n",
       "4        NEO STREAM    270960  4b1IVV9meynYx65WpsxjbT   \n",
       "\n",
       "                   ArtistName  \\\n",
       "0  Sheryl Nome starring May'n   \n",
       "1                 Guilty Kiss   \n",
       "2                       May'n   \n",
       "3           Hoshimachi Suisei   \n",
       "4                     Walkure   \n",
       "\n",
       "                                           ArtistURL              ArtistGenres  \n",
       "0  https://i.scdn.co/image/ab67616d0000b27364c32c...                      None  \n",
       "1  https://i.scdn.co/image/ab67616d0000b273def723...                 love live  \n",
       "2  https://i.scdn.co/image/ab6761610000e5eb0d1c05...           anime,j-poprock  \n",
       "3  https://i.scdn.co/image/ab6761610000e5ebee9358...  hololive,japanese vtuber  \n",
       "4  https://i.scdn.co/image/ab67616d0000b273ab4899...                      None  "
      ]
     },
     "execution_count": 4,
     "metadata": {},
     "output_type": "execute_result"
    }
   ],
   "source": [
    "df = pd.read_csv('dataset/streams_1.csv', header=0)\n",
    "df.head()"
   ]
  },
  {
   "cell_type": "markdown",
   "metadata": {},
   "source": [
    "* 終了時間の予測時間を追加する\n",
    "* ジャンルを一覧表示し何かできないか確認する\n",
    "* Membersを見てコラボ情報を追加する\n",
    "* Youtube APIで動画タイトルを追加する\n",
    "* サムネやタイトルを見て以下のデータをアノテーションする\n",
    "    * アカペラ\n",
    "    * ライブ\n",
    "* Spotify APIを使って試しにジャンルを打ってみる\n",
    "    * 割と真面目にデータを見る必要があるため後回し"
   ]
  },
  {
   "cell_type": "code",
   "execution_count": 15,
   "metadata": {},
   "outputs": [],
   "source": [
    "# 終了時間の追加\n",
    "start_time = np.array(df['StartTime'])\n",
    "duration_ms = np.array(df['Duration'])\n",
    "end_time = start_time + duration_ms//1000\n",
    "\n",
    "# データが無いものの数を確認し、これらは後程手動で入力する\n",
    "nodata_num = duration_ms[duration_ms==0].shape[0]"
   ]
  },
  {
   "cell_type": "code",
   "execution_count": 16,
   "metadata": {},
   "outputs": [],
   "source": [
    "# コラボ情報の追加\n",
    "members = np.array(df['Members'])\n",
    "collabs = np.zeros(df.shape[0], dtype=bool)\n",
    "for i, member in enumerate(members):\n",
    "    member_list = member.split(',')\n",
    "    collabs[i] = len(member_list) > 1"
   ]
  },
  {
   "cell_type": "code",
   "execution_count": 20,
   "metadata": {},
   "outputs": [
    {
     "data": {
      "text/plain": [
       "(array(['None', 'anime', 'hololive', 'j-poprock', 'japanese vtuber',\n",
       "        'love live', 'macross', 'vocaloid'], dtype='<U15'),\n",
       " array([6, 2, 2, 1, 2, 2, 1, 1]))"
      ]
     },
     "execution_count": 20,
     "metadata": {},
     "output_type": "execute_result"
    }
   ],
   "source": [
    "# ジャンル一覧の確認\n",
    "genres = np.array(df['ArtistGenres'])\n",
    "genres_1 = []\n",
    "for i, genre_1 in enumerate(genres):\n",
    "    genres_2 = genre_1.split(',')\n",
    "    for genre_2 in genres_2:\n",
    "        genres_1.append(genre_2)\n",
    "        \n",
    "genre_all, genre_count = np.unique(np.array(genres_1), return_counts=True)\n",
    "\n",
    "# 各ジャンルの数を見ながらどのような分類ができるか確認する\n",
    "# ボカロとかアニメとかでジャンルが決められそうならやってみる\n",
    "# 楽曲ごとに重複しているものは注意する\n",
    "genre_all, genre_count"
   ]
  },
  {
   "cell_type": "code",
   "execution_count": 25,
   "metadata": {},
   "outputs": [],
   "source": [
    "# Youtube APIの準備\n",
    "\n",
    "# APIキーをファイルから取得\n",
    "f = open('../secret/apikey', 'r')\n",
    "api_key = f.read()\n",
    "f.close()\n",
    "\n",
    "# APIキーを用いてリクエスト用のクラスを作成\n",
    "YOUTUBE_API_SERVICE_NAME = \"youtube\"\n",
    "YOUTUBE_API_VERSION = \"v3\"\n",
    "youtube = build(YOUTUBE_API_SERVICE_NAME, YOUTUBE_API_VERSION, developerKey=api_key)"
   ]
  },
  {
   "cell_type": "code",
   "execution_count": 27,
   "metadata": {},
   "outputs": [],
   "source": [
    "video_ids = np.array(df['VideoID'])\n",
    "unique_video_ids = np.unique(video_ids)\n",
    "unique_titles = []\n",
    "for video_id in unique_video_ids:\n",
    "    try:\n",
    "        video_detail = youtube.videos().list(\n",
    "            part = 'snippet,statistics,contentDetails', \n",
    "            id = video_id, \n",
    "        ).execute()\n",
    "    except HttpError:\n",
    "        print('データ参照中にエラーが発生しました')\n",
    "        break\n",
    "    \n",
    "    video_snippet = video_detail['items'][0]['snippet']\n",
    "    # date = video_snippet['publishedAt']\n",
    "    unique_title  = video_snippet['title']\n",
    "    unique_titles.append(unique_title)"
   ]
  },
  {
   "cell_type": "code",
   "execution_count": 28,
   "metadata": {},
   "outputs": [
    {
     "name": "stdout",
     "output_type": "stream",
     "text": [
      "{'FZnG1t34wCs': '【#星街すいせい3D】全編ライブ！歌って踊る姿を見てください！✨【ホロライブ / 星街すいせい】', 'n0ieG2D_qaU': 'ひたすらアカペラする歌枠！【ホロライブ / 星街すいせい】', 'rbkjVA6Fjh0': 'ホロライブのアイドルが集まってカラオケをしたらこうなる【 #ホロドルカラオケ 】'}\n"
     ]
    }
   ],
   "source": [
    "video_ids_dict = dict(zip(unique_video_ids, unique_titles))\n",
    "print(video_ids_dict)\n",
    "\n",
    "titles = []\n",
    "for video_id in video_ids:\n",
    "    titles.append(video_ids_dict[video_id])\n",
    "titles = np.array(titles)"
   ]
  },
  {
   "cell_type": "code",
   "execution_count": 38,
   "metadata": {},
   "outputs": [],
   "source": [
    "def output_html(video_ids, titles):\n",
    "    html = '<div style=\"float:left;\">'\n",
    "    for i, video_id in enumerate(video_ids):\n",
    "        html += ('<img src=\"http://img.youtube.com/vi/'+video_id+'/sddefault.jpg \"alt=\"取得できませんでした\" width=\"80\"><br>')\n",
    "        url = \"https://www.youtube.com/watch?v=\"+video_id\n",
    "        html += ('  <a href=\"'+url+'\">'+url+'</a><br>'+video_id+'<br>') \n",
    "        html += (''+titles[i]+'<br>') \n",
    "    html += '</div>'\n",
    "    return html"
   ]
  },
  {
   "cell_type": "code",
   "execution_count": 39,
   "metadata": {},
   "outputs": [
    {
     "data": {
      "text/html": [
       "<div style=\"float:left;\"><img src=\"http://img.youtube.com/vi/FZnG1t34wCs/sddefault.jpg \"alt=\"取得できませんでした\" width=\"80\"><br>  <a href=\"https://www.youtube.com/watch?v=FZnG1t34wCs\">https://www.youtube.com/watch?v=FZnG1t34wCs</a><br>FZnG1t34wCs<br>【#星街すいせい3D】全編ライブ！歌って踊る姿を見てください！✨【ホロライブ / 星街すいせい】<br><img src=\"http://img.youtube.com/vi/n0ieG2D_qaU/sddefault.jpg \"alt=\"取得できませんでした\" width=\"80\"><br>  <a href=\"https://www.youtube.com/watch?v=n0ieG2D_qaU\">https://www.youtube.com/watch?v=n0ieG2D_qaU</a><br>n0ieG2D_qaU<br>ひたすらアカペラする歌枠！【ホロライブ / 星街すいせい】<br><img src=\"http://img.youtube.com/vi/rbkjVA6Fjh0/sddefault.jpg \"alt=\"取得できませんでした\" width=\"80\"><br>  <a href=\"https://www.youtube.com/watch?v=rbkjVA6Fjh0\">https://www.youtube.com/watch?v=rbkjVA6Fjh0</a><br>rbkjVA6Fjh0<br>ホロライブのアイドルが集まってカラオケをしたらこうなる【 #ホロドルカラオケ 】<br></div>"
      ],
      "text/plain": [
       "<IPython.core.display.HTML object>"
      ]
     },
     "execution_count": 39,
     "metadata": {},
     "output_type": "execute_result"
    }
   ],
   "source": [
    "# 表示しながらライブやアカペラにアノテーションする\n",
    "HTML(output_html(unique_video_ids, unique_titles))"
   ]
  },
  {
   "cell_type": "code",
   "execution_count": null,
   "metadata": {},
   "outputs": [],
   "source": [
    "aka_ids = []\n",
    "live_ids = []"
   ]
  },
  {
   "cell_type": "code",
   "execution_count": 42,
   "metadata": {},
   "outputs": [],
   "source": [
    "# Spotify APIの準備\n",
    "\n",
    "# APIキーをファイルから取得\n",
    "f = open('../secret/clientsecret_spotify', 'r')\n",
    "client_secret = f.read()\n",
    "f.close()\n",
    "client_id, client_secret = client_secret.split('\\n')[0], client_secret.split('\\n')[1]\n",
    "\n",
    "client_credentials_manager = spotipy.oauth2.SpotifyClientCredentials(client_id, client_secret)\n",
    "spotify = spotipy.Spotify(client_credentials_manager=client_credentials_manager)"
   ]
  },
  {
   "cell_type": "code",
   "execution_count": 45,
   "metadata": {},
   "outputs": [
    {
     "name": "stdout",
     "output_type": "stream",
     "text": [
      "[{'danceability': 0.504, 'energy': 0.829, 'key': 5, 'loudness': -5.248, 'mode': 0, 'speechiness': 0.0621, 'acousticness': 0.0315, 'instrumentalness': 0, 'liveness': 0.295, 'valence': 0.771, 'tempo': 165.904, 'type': 'audio_features', 'id': '4Rs0bABgDMzAqAAd2P8ArD', 'uri': 'spotify:track:4Rs0bABgDMzAqAAd2P8ArD', 'track_href': 'https://api.spotify.com/v1/tracks/4Rs0bABgDMzAqAAd2P8ArD', 'analysis_url': 'https://api.spotify.com/v1/audio-analysis/4Rs0bABgDMzAqAAd2P8ArD', 'duration_ms': 267400, 'time_signature': 4}]\n"
     ]
    }
   ],
   "source": [
    "track_ids = np.array(df['TrackID'])\n",
    "for track_id in track_ids:\n",
    "    result = spotify.audio_features(track_id)\n",
    "    print(result)\n",
    "    break\n",
    "\n",
    "# いくつかのパラメータごとにtop50 & top-50 を取り出してどういう曲が出てくるか見てみる\n",
    "# https://gaaaon.jp/blog/spotify"
   ]
  }
 ],
 "metadata": {
  "kernelspec": {
   "display_name": "study-youtube",
   "language": "python",
   "name": "study-youtube"
  },
  "language_info": {
   "codemirror_mode": {
    "name": "ipython",
    "version": 3
   },
   "file_extension": ".py",
   "mimetype": "text/x-python",
   "name": "python",
   "nbconvert_exporter": "python",
   "pygments_lexer": "ipython3",
   "version": "3.7.10"
  }
 },
 "nbformat": 4,
 "nbformat_minor": 4
}
