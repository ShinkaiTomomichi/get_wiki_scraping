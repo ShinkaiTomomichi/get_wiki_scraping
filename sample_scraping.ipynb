{
 "cells": [
  {
   "cell_type": "code",
   "execution_count": 2,
   "metadata": {},
   "outputs": [],
   "source": [
    "# Pythonの基本ライブラリ\n",
    "import numpy as np\n",
    "import pandas as pd\n",
    "import matplotlib.pyplot as plt\n",
    "\n",
    "# ファイル操作\n",
    "import os\n",
    "import glob\n",
    "\n",
    "# スクレイピング\n",
    "import requests\n",
    "from bs4 import BeautifulSoup"
   ]
  },
  {
   "cell_type": "code",
   "execution_count": 33,
   "metadata": {},
   "outputs": [
    {
     "name": "stdout",
     "output_type": "stream",
     "text": [
      "[<h1><a href=\"https://seesaawiki.jp/hololivetv/\">ホロライブ非公式wiki</a></h1>]\n"
     ]
    }
   ],
   "source": [
    "url = \"https://seesaawiki.jp/hololivetv/d/%c0%b1%b3%b9%a4%b9%a4%a4%a4%bb%a4%a4%a1%da%b2%ce%be%a7%b3%da%b6%ca%b0%ec%cd%f7%a1%db\"\n",
    "\n",
    "r = requests.get(url)\n",
    "\n",
    "# soup = BeautifulSoup(r.content, \"html.parser\")\n",
    "# 文字化けは以下のコードで直った（渡す前にdecodeして解決する方法だが、BS4の方で解決は難しいのか？）\n",
    "soup = BeautifulSoup(r.content.decode(\"euc-jp\", \"ignore\"), \"html.parser\")\n",
    "\n",
    "# 取得できているか確認\n",
    "print(soup.select(\"h1\"))"
   ]
  },
  {
   "cell_type": "code",
   "execution_count": 43,
   "metadata": {},
   "outputs": [],
   "source": [
    "# 歌枠全体を管理しているテーブル\n",
    "streams = soup.find_all(\"table\", {\"id\":\"content_block_13\"})[0]\n",
    "rows = streams.find_all(\"tr\")\n",
    "\n",
    "# セルごとの要素を抽出\n",
    "# メンバー、公開日、タイトル、曲数、備考\n",
    "# 現在取得できない動画には非公開と記載されているものが多い\n",
    "\n",
    "# 枠そのものはダブルチェックくらいにしか使わないので一旦保留\n",
    "# 他のデータをcsv形式で保存して使えるようにしておく"
   ]
  },
  {
   "cell_type": "code",
   "execution_count": 127,
   "metadata": {},
   "outputs": [],
   "source": [
    "# 楽曲を管理しているテーブル\n",
    "songs = soup.find_all(\"table\", {\"id\":\"content_block_19\"})[0]\n",
    "rows = songs.find_all(\"tr\")\n",
    "\n",
    "# リンクがある曲だけ取得する\n",
    "def check_cell(cells):\n",
    "    # リンクそのものが存在しない場合はfalse\n",
    "    if cells[2].a == None:\n",
    "        return False\n",
    "    \n",
    "    href = cells[2].a[\"href\"]\n",
    "    # 短縮系もあるため\"youtu\"で判別\n",
    "    if \"youtu\" not in href:\n",
    "        return False\n",
    "\n",
    "    # 備考に非公開とある場合false\n",
    "    text = cells[3].text\n",
    "    if \"非公開\" in text:\n",
    "        return False\n",
    "    return True\n",
    "\n",
    "# リンクから動画IDと開始時間を取得する\n",
    "def get_videoid_time(cells):\n",
    "    href = cells[2].a[\"href\"]\n",
    "    if \"youtube\" in href:\n",
    "        stratid = href.find(\"v=\")+2\n",
    "        endid = href.find(\"&t=\")\n",
    "        videoid = href[stratid:endid]\n",
    "        time = href[endid+3:-1]\n",
    "    if \"youtu.be\" in  href:\n",
    "        stratid = href.find(\".be\")+4\n",
    "        endid = href.find(\"?t=\")\n",
    "        videoid = href[stratid:endid]\n",
    "        time = href[endid+3:]\n",
    "    return videoid, time\n",
    "    \n",
    "# メンバーと備考からアーティストを取得する\n",
    "def get_artist(cells):\n",
    "    artists = []\n",
    "    member = list(cells[0].children)\n",
    "    for i in range(len(member)//2 + 1):\n",
    "        artists.append(member[i*2])\n",
    "    detail = cells[3].text\n",
    "    guests = [\"戌亥とこ\", \"獅子神レオナ\"]\n",
    "    for guest in guests:\n",
    "        if guest in detail:\n",
    "            artists.append(guest)\n",
    "    return artists\n",
    "\n",
    "# あれ、カリとのライブは？？？\n",
    "\n",
    "# video_idとt、アーティスト、曲名を取り出す\n",
    "# 先頭だけ特殊なセルなためスキップする\n",
    "tmp = []\n",
    "for row in rows[1:]:\n",
    "    cells = row.find_all('td')\n",
    "    if check_cell(cells):\n",
    "        videoid, time = get_videoid_time(cells)\n",
    "        artists = get_artist(cells)\n",
    "        artists_string = ','.join(artists)\n",
    "        text = cells[2].text\n",
    "        tmp.append([artists_string, text, videoid, time])\n",
    "        \n",
    "df = pd.DataFrame(data=np.array(tmp), \n",
    "                  columns=['Artists', 'SongTitle', 'VideoID', 'Time'])\n",
    "df.to_csv('sample.csv', index=False)"
   ]
  },
  {
   "cell_type": "code",
   "execution_count": null,
   "metadata": {},
   "outputs": [],
   "source": [
    "# オリ曲を管理しているテーブル\n",
    "songs = soup.find_all(\"table\", {\"id\":\"content_block_26\"})[0]\n",
    "rows = songs.find_all(\"tr\")\n",
    "\n",
    "# メンバーに星街すいせいが含まれるかどうかでフィルタする必要がありそう\n",
    "# あれ？ out side frameなくね？\n",
    "# ここに関してはYoutubeへのリンクも無いし、数も少ないので手動入力でもいいかも\n",
    "\n",
    "# セルごとの要素を抽出\n",
    "# 公開日、メンバー、楽曲、リンク（Wikiへのリンク）"
   ]
  },
  {
   "cell_type": "code",
   "execution_count": 45,
   "metadata": {},
   "outputs": [
    {
     "name": "stdout",
     "output_type": "stream",
     "text": [
      "<td>2017/12/19</td>\n",
      "<td>ときのそら</td>\n",
      "<td><a class=\"outlink\" href=\"https://youtu.be/RdmDf9WSMX0\" rel=\"nofollow\" target=\"_blank\">ひいらぎ飾ろう</a></td>\n",
      "<td>非公開</td>\n",
      "<td>2017/12/22</td>\n",
      "<td>ときのそら</td>\n",
      "<td><a class=\"outlink\" href=\"https://youtu.be/jtMvXgSVFjw\" rel=\"nofollow\" target=\"_blank\">Winter Wonderland</a></td>\n",
      "<td>非公開</td>\n"
     ]
    }
   ],
   "source": [
    "# 歌みた曲を管理しているテーブル\n",
    "songs = soup.find_all(\"table\", {\"id\":\"content_block_34\"})[0]\n",
    "rows = songs.find_all(\"tr\")\n",
    "\n",
    "# セルごとの要素を抽出\n",
    "# 公開日、メンバー、楽曲、備考\n",
    "# メンバーに星街すいせいが含まれるかどうかでフィルタする必要がありそう\n",
    "# ホロメン以外のメンバーがいる場合、備考の方に記載される\n",
    "for row in rows[0:3]:\n",
    "    for cell in row.find_all('td'):\n",
    "        print(cell)"
   ]
  }
 ],
 "metadata": {
  "kernelspec": {
   "display_name": "study-youtube",
   "language": "python",
   "name": "study-youtube"
  },
  "language_info": {
   "codemirror_mode": {
    "name": "ipython",
    "version": 3
   },
   "file_extension": ".py",
   "mimetype": "text/x-python",
   "name": "python",
   "nbconvert_exporter": "python",
   "pygments_lexer": "ipython3",
   "version": "3.7.10"
  }
 },
 "nbformat": 4,
 "nbformat_minor": 4
}
