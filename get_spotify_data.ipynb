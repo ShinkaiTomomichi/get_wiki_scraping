{
 "cells": [
  {
   "cell_type": "code",
   "execution_count": 6,
   "metadata": {},
   "outputs": [],
   "source": [
    "# Pythonの基本ライブラリ\n",
    "import numpy as np\n",
    "import pandas as pd\n",
    "import matplotlib.pyplot as plt\n",
    "\n",
    "# spotifyのAPIを利用\n",
    "import spotipy"
   ]
  },
  {
   "cell_type": "code",
   "execution_count": 8,
   "metadata": {},
   "outputs": [],
   "source": [
    "# Spotify APIの準備\n",
    "\n",
    "# APIキーをファイルから取得\n",
    "f = open('../secret/clientsecret_spotify', 'r')\n",
    "client_secret = f.read()\n",
    "f.close()\n",
    "client_id, client_secret = client_secret.split('\\n')[0], client_secret.split('\\n')[1]\n",
    "    \n",
    "client_credentials_manager = spotipy.oauth2.SpotifyClientCredentials(client_id, client_secret)\n",
    "spotify = spotipy.Spotify(client_credentials_manager=client_credentials_manager)"
   ]
  },
  {
   "cell_type": "code",
   "execution_count": 7,
   "metadata": {},
   "outputs": [
    {
     "data": {
      "text/html": [
       "<div>\n",
       "<style scoped>\n",
       "    .dataframe tbody tr th:only-of-type {\n",
       "        vertical-align: middle;\n",
       "    }\n",
       "\n",
       "    .dataframe tbody tr th {\n",
       "        vertical-align: top;\n",
       "    }\n",
       "\n",
       "    .dataframe thead th {\n",
       "        text-align: right;\n",
       "    }\n",
       "</style>\n",
       "<table border=\"1\" class=\"dataframe\">\n",
       "  <thead>\n",
       "    <tr style=\"text-align: right;\">\n",
       "      <th></th>\n",
       "      <th>Artists</th>\n",
       "      <th>SongTitle</th>\n",
       "      <th>VideoID</th>\n",
       "      <th>Time</th>\n",
       "    </tr>\n",
       "  </thead>\n",
       "  <tbody>\n",
       "    <tr>\n",
       "      <th>0</th>\n",
       "      <td>星街すいせい</td>\n",
       "      <td>破滅の純情</td>\n",
       "      <td>rbkjVA6Fjh0</td>\n",
       "      <td>4872</td>\n",
       "    </tr>\n",
       "    <tr>\n",
       "      <th>1</th>\n",
       "      <td>星街すいせい</td>\n",
       "      <td>コワレヤスキ</td>\n",
       "      <td>rbkjVA6Fjh0</td>\n",
       "      <td>5743</td>\n",
       "    </tr>\n",
       "    <tr>\n",
       "      <th>2</th>\n",
       "      <td>星街すいせい,常闇トワ</td>\n",
       "      <td>ライオン</td>\n",
       "      <td>rbkjVA6Fjh0</td>\n",
       "      <td>6763</td>\n",
       "    </tr>\n",
       "    <tr>\n",
       "      <th>3</th>\n",
       "      <td>星街すいせい</td>\n",
       "      <td>天球、彗星は夜を跨いで</td>\n",
       "      <td>FZnG1t34wCs</td>\n",
       "      <td>95</td>\n",
       "    </tr>\n",
       "    <tr>\n",
       "      <th>4</th>\n",
       "      <td>星街すいせい</td>\n",
       "      <td>Neo stream</td>\n",
       "      <td>FZnG1t34wCs</td>\n",
       "      <td>568</td>\n",
       "    </tr>\n",
       "  </tbody>\n",
       "</table>\n",
       "</div>"
      ],
      "text/plain": [
       "       Artists    SongTitle      VideoID  Time\n",
       "0       星街すいせい        破滅の純情  rbkjVA6Fjh0  4872\n",
       "1       星街すいせい       コワレヤスキ  rbkjVA6Fjh0  5743\n",
       "2  星街すいせい,常闇トワ         ライオン  rbkjVA6Fjh0  6763\n",
       "3       星街すいせい  天球、彗星は夜を跨いで  FZnG1t34wCs    95\n",
       "4       星街すいせい   Neo stream  FZnG1t34wCs   568"
      ]
     },
     "execution_count": 7,
     "metadata": {},
     "output_type": "execute_result"
    }
   ],
   "source": [
    "df = pd.read_csv('sample.csv', header=0)\n",
    "df.head()"
   ]
  },
  {
   "cell_type": "code",
   "execution_count": 9,
   "metadata": {},
   "outputs": [
    {
     "name": "stdout",
     "output_type": "stream",
     "text": [
      "name: コワレヤスキ & artist: Guilty Kiss\n",
      "['love live']\n",
      "name: コワレヤスキ & artist: Guilty Kiss\n",
      "['love live']\n"
     ]
    }
   ],
   "source": [
    "# spotifyのデータからどうやって正しい情報を取得するか...\n",
    "# 一旦お試しでやってみて曲名が複数あるような所だけ見直すか...\n",
    "# どうせ出てこないやつは人力で探すことになりそう\n",
    "\n",
    "song_titles = list(df['SongTitle'])\n",
    "\n",
    "# APIを使って情報を取り出す\n",
    "for song_title in song_titles[0:2]:\n",
    "    result = spotify.search(q=\"track:\" + song_title, limit=10, type=\"track\")\n",
    "\n",
    "    items = result['tracks']['items']\n",
    "    # 検索結果を取り出す（この中から近いものを取り出さなくてはならない）\n",
    "    for item in items:\n",
    "        track_name = item['name']\n",
    "        track_id = item['id']\n",
    "        artist_name = item['artists'][0]['name'] # 複数いる場合もありそう\n",
    "        artist_id = item['artists'][0]['id']\n",
    "        print(\"name:\", track_name, \"& artist:\", artist_name)\n",
    "\n",
    "        artist = spotify.artist(artist_id)\n",
    "        artist_url = artist['images'][0]['url']\n",
    "        artist_genres = artist['genres']\n",
    "        print(artist_genres)"
   ]
  }
 ],
 "metadata": {
  "kernelspec": {
   "display_name": "study-youtube",
   "language": "python",
   "name": "study-youtube"
  },
  "language_info": {
   "codemirror_mode": {
    "name": "ipython",
    "version": 3
   },
   "file_extension": ".py",
   "mimetype": "text/x-python",
   "name": "python",
   "nbconvert_exporter": "python",
   "pygments_lexer": "ipython3",
   "version": "3.7.10"
  }
 },
 "nbformat": 4,
 "nbformat_minor": 4
}
